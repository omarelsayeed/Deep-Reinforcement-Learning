{
 "cells": [
  {
   "cell_type": "code",
   "execution_count": 3,
   "metadata": {},
   "outputs": [],
   "source": [
    "import numpy as np\n",
    "from keras.layers import Dense\n",
    "import tensorflow as tf\n",
    "from tensorflow.keras.optimizers  import Adam\n",
    "from keras import Sequential\n",
    "import pybullet as p\n",
    "import time\n",
    "import pybullet_data\n",
    "import matplotlib.pyplot as plt\n",
    "from keras.losses import Huber\n",
    "from  keras.models import load_model"
   ]
  },
  {
   "cell_type": "code",
   "execution_count": 4,
   "metadata": {},
   "outputs": [],
   "source": [
    "class PybulletConnection(object):\n",
    "\n",
    "    def __init__(self , render):\n",
    "        \n",
    "        try : p.disconnect()\n",
    "        except : pass\n",
    "        if render:\n",
    "            physicsClient = p.connect(p.GUI) \n",
    "        else : \n",
    "            physicsClient = p.connect(p.DIRECT)\n",
    "        p.setAdditionalSearchPath(pybullet_data.getDataPath())\n",
    "        p.createCollisionShape(p.GEOM_PLANE)\n",
    "        p.createMultiBody(0, 0)\n",
    "        p.setGravity(0,0,-9.8)\n",
    "        startPos = [0,0,0]\n",
    "        startOrientation = p.getQuaternionFromEuler([0,0,0])\n",
    "        self.bodyObj = p.loadURDF(\"balancebot_simple.xml\" \n",
    "                               , startPos , startOrientation)\n",
    "        \n",
    "    def resetEnvironment(BalancingRobot):\n",
    "        p.resetSimulation()\n",
    "        p.setAdditionalSearchPath(pybullet_data.getDataPath())\n",
    "        p.createCollisionShape(p.GEOM_PLANE)\n",
    "        p.createMultiBody(0, 0)\n",
    "        p.setGravity(0,0,-9.8)\n",
    "        startPos = [0,0,0]\n",
    "        startOrientation = p.getQuaternionFromEuler([0,0,0])\n",
    "        bodyObj = p.loadURDF(\"balancebot_simple.xml\" \n",
    "                               , startPos , startOrientation) \n",
    "        return 0\n",
    "class BalancingRobot(PybulletConnection):\n",
    "    \n",
    "    actions_dect = {0 : [10,-10] , 1:[20, -20] , 2:[30 , -30] , 3: [40,-40] , 4 :[50 , -50 ] ,\n",
    "               4  : [-10 , 10] , 5:[-20 , 20] , 6:[-30, 30] , 7 : [-40 , 40] , 8 : [-50 , 50] }    \n",
    "    \n",
    "    def __init__(self , r):\n",
    "        self.reward = 0\n",
    "        super().__init__(render=r)\n",
    "        self.motor1 = MotorDC(0 , self.bodyObj)\n",
    "        self.motor2 = MotorDC(1 , self.bodyObj)\n",
    "        self.BASE_LINK_INDEX = 0\n",
    "        \n",
    "    def controlMotors(self, vel):\n",
    "        \n",
    "        self.motor1.currentVelocity = vel[0]\n",
    "        self.motor2.currentVelocity = vel[1]\n",
    "        \n",
    "        p.setJointMotorControlArray(\n",
    "                bodyIndex = self.bodyObj,\n",
    "                jointIndices = [self.motor1.motor_index , self.motor2.motor_index],\n",
    "                controlMode = p.VELOCITY_CONTROL,      \n",
    "                targetVelocities=vel) \n",
    "              \n",
    "    \n",
    "    def isTerminalState(self):\n",
    "        cubePos, _ = p.getBasePositionAndOrientation(self.bodyObj)\n",
    "        \n",
    "        return cubePos[2] < 0.15\n",
    "    \n",
    "    def read_State(self):\n",
    "        x_orientation = p.getEulerFromQuaternion(p.getBasePositionAndOrientation(self.bodyObj)[1])[0]\n",
    "    \n",
    "        if x_orientation > 0 and x_orientation <= 0.25:\n",
    "            return 0\n",
    "    \n",
    "        if x_orientation >= 0.25 and x_orientation <=0.5:\n",
    "            return 1\n",
    "        \n",
    "        elif x_orientation > 0.5:\n",
    "            return 2\n",
    "    \n",
    "        elif x_orientation < 0 and x_orientation >= -0.25:\n",
    "            return 3\n",
    "        \n",
    "        elif x_orientation < -0.25 and x_orientation >= -0.5:\n",
    "            return 4\n",
    "        \n",
    "        else : return 5\n",
    "        \n",
    "    def takeActionFromList(self,velocity):\n",
    "        self.controlMotors(velocity)\n",
    "        p.stepSimulation()\n",
    "        if self.isTerminalState():\n",
    "            self.reward -= 1000\n",
    "        else :\n",
    "            self.reward +=0.1\n",
    "                \n",
    "    def calculate_reward(self):\n",
    "        return self.reward\n",
    "    \n",
    "    def step(self , action_index):\n",
    "        \n",
    "        velocity_list=BalancingRobot.actions_dect[action_index]\n",
    "        self.takeActionFromList(velocity_list)\n",
    "        new_state= self.read_State()\n",
    "        r=self.calculate_reward()\n",
    "        \n",
    "        if self.isTerminalState():\n",
    "            self.reward=0\n",
    "            self.resetEnvironment()\n",
    "            \n",
    "        return (new_state , r)\n",
    "class MotorDC(object):\n",
    "    \n",
    "    def __init__(self , motor_index , bodyObj):\n",
    "        \n",
    "        self.motor_index=motor_index\n",
    "        self.bodyObj= bodyObj\n",
    "        self.currentVelocity = 0"
   ]
  },
  {
   "cell_type": "code",
   "execution_count": 9,
   "metadata": {},
   "outputs": [],
   "source": [
    "class ExpMemory(object):\n",
    "    def __init__(self, memory_size , input_shape ):\n",
    "        \n",
    "        self.input_shape = input_shape\n",
    "        self.memory_size = memory_size\n",
    "        self.memory = np.zeros((self.memory_size , self.input_shape))\n",
    "        self.memory_count = 0\n",
    "        \n",
    "    def store_replay(self , state , actionIndex , reward , new_state  ):\n",
    "        if self.memory_count < self.memory_size :\n",
    "            self.memory[self.memory_count] = (state , actionIndex , reward , new_state )\n",
    "            self.memory_count += 1\n",
    "        else : \n",
    "            raise BufferError(\"Memory is Full\")\n",
    "        \n",
    "    def sample_batch(self , batch_size):\n",
    "        current_memory_size = self.memory_count\n",
    "        batch_indecies = np.random.choice(self.memory_count , batch_size)\n",
    "        return self.memory[batch_indecies]\n",
    "    \n",
    "class Qnetwork(object):\n",
    "\n",
    "    def __init__(self, state_shape , n_actions , lr , fc1 , fc2):\n",
    "        self.lr = lr\n",
    "        self.n_actions= n_actions\n",
    "        self.state_shape=state_shape\n",
    "        self.model = Sequential([\n",
    "            Dense(fc1 , activation = 'relu' , input_shape = ( self.state_shape ,)) ,\n",
    "            #Dense(fc2 , activation = 'relu'),\n",
    "            Dense(n_actions , activation = 'relu')\n",
    "        ])\n",
    "        self.model.compile( optimizer = Adam(learning_rate=lr) , loss=Huber() )\n",
    "        \n",
    "    def get_Model(self):\n",
    "        return self.model\n",
    "    \n",
    "class DQNAgent(object):\n",
    "    def __init__(self, discount_rate , alpha , epsilon , memory_size  \n",
    "                 , n_actions , input_shape, lr , memory_shape ,  batch_size , decay_rate = 0):\n",
    "        self.discount_rate = discount_rate\n",
    "        self.alpha = alpha\n",
    "        self.epsilon = 1\n",
    "        self.memory_size = memory_size\n",
    "        self.n_actions= n_actions\n",
    "        self.input_shape = input_shape\n",
    "        self.lr=lr\n",
    "        self.memory_shape = memory_shape\n",
    "        \n",
    "        self.replay_memory = ExpMemory(self.memory_size , memory_shape )\n",
    "        self.q_network = Qnetwork(self.input_shape , self.n_actions \n",
    "                                  , self.lr , fc1=20 , fc2=20).get_Model()\n",
    "        self.batch_size = batch_size\n",
    "        self.decay_rate= decay_rate\n",
    "        self.train_rewards = []\n",
    "        self.maximum_q = []\n",
    "    def epsilon_greedy(self,state):\n",
    "        if  np.random.rand(1) < self.epsilon:\n",
    "            actions = self.q_network.predict(state)\n",
    "            action = np.argmax(actions)\n",
    "            self.maximum_q.append(np.max(actions))\n",
    "        else:\n",
    "            action = np.random.randint(0, self.n_actions)\n",
    "        return action\n",
    "    \n",
    "    def exponential_decay_epsilon(self, state):\n",
    "        if np.random.rand(1) > self.epsilon:\n",
    "            action = np.argmax(self.q_network.predict(state))\n",
    "        else :\n",
    "            action = np.random.randint(0, self.n_actions)\n",
    "            \n",
    "            return action\n",
    "        \n",
    "    def learn(self , myRobot):\n",
    "        current_state = myRobot.resetEnvironment()\n",
    "        batch_index=np.arange(self.batch_size)\n",
    "        \n",
    "        for i in range(self.batch_size):\n",
    "            action = self.epsilon_greedy(np.array([current_state]))\n",
    "            new_state , reward = myRobot.step(action)\n",
    "            self.replay_memory.store_replay(current_state , action , reward , new_state)\n",
    "            current_state = new_state\n",
    "        \n",
    "        for i in range(5000):\n",
    "                action = self.epsilon_greedy(np.array([current_state]))\n",
    "                new_state , reward = myRobot.step(action)\n",
    "                self.replay_memory.store_replay(current_state , action , reward , new_state)\n",
    "                batch = self.replay_memory.sample_batch(self.batch_size)\n",
    "                \n",
    "                state_batch = batch[: , 0]\n",
    "                new_state_batch = batch[: , 3]\n",
    "                actionIndecies_batch = batch[: , 1]\n",
    "                reward = batch[: , 2]\n",
    "                \n",
    "                # THE ALGORITHM\n",
    "                \n",
    "                Qs = self.q_network.predict(state_batch)\n",
    "                Q_newstate = self.q_network.predict(new_state_batch)\n",
    "                target=Qs.copy()\n",
    "                target[batch_index , actionIndecies_batch.astype(np.int32)] = \\\n",
    "                reward + 0.7 * np.max(Q_newstate , axis=1)\n",
    "                                        \n",
    "                self.q_network.fit(state_batch , target , verbose=False)\n",
    "                \n",
    "                current_state = new_state\n",
    "                \n",
    "                self.train_rewards.append(reward)\n",
    "\n",
    "                if i%200 == 0 :\n",
    "                    print(\"Average Q Values for i = \" , i , np.average(self.maximum_q))\n",
    "                \n",
    "    def test(self,  myRobot):\n",
    "        self.q_network = load_model(\"dqn_model.h5\")\n",
    "        state = myRobot.resetEnvironment()\n",
    "        test_rewards = []\n",
    "        for i in range(100):\n",
    "            action = self.epsilon_greedy(np.array([state]))\n",
    "            new_state , reward = myRobot.step(action)\n",
    "            state = new_state\n",
    "            test_rewards.append(reward)\n",
    "        return test_rewards\n",
    "                \n",
    "    def save_model(self , filename):\n",
    "        self.q_network.save(filename)\n",
    "\n",
    "    def load_model(self):\n",
    "        self.q_network = load_model(\"dqn_model.h5\")"
   ]
  },
  {
   "cell_type": "code",
   "execution_count": 10,
   "metadata": {},
   "outputs": [],
   "source": [
    "myRobot = BalancingRobot(False)"
   ]
  },
  {
   "cell_type": "code",
   "execution_count": 11,
   "metadata": {},
   "outputs": [
    {
     "name": "stdout",
     "output_type": "stream",
     "text": [
      "Average Q Values for i =  0.1760738\n",
      "Average Q Values for i =  21.852936\n",
      "Average Q Values for i =  18.72957\n",
      "Average Q Values for i =  16.891113\n",
      "Average Q Values for i =  15.669452\n",
      "Average Q Values for i =  15.159634\n",
      "Average Q Values for i =  16.004393\n",
      "Average Q Values for i =  16.046864\n",
      "Average Q Values for i =  16.56897\n",
      "Average Q Values for i =  18.21734\n",
      "Average Q Values for i =  21.16976\n",
      "Average Q Values for i =  25.847717\n",
      "Average Q Values for i =  32.25759\n",
      "Average Q Values for i =  39.94511\n",
      "Average Q Values for i =  48.52737\n",
      "Average Q Values for i =  58.108017\n",
      "Average Q Values for i =  68.47039\n",
      "Average Q Values for i =  79.89478\n",
      "Average Q Values for i =  91.66589\n",
      "Average Q Values for i =  104.06875\n",
      "Average Q Values for i =  116.92078\n",
      "Average Q Values for i =  129.89336\n",
      "Average Q Values for i =  143.19102\n",
      "Average Q Values for i =  157.18091\n",
      "Average Q Values for i =  171.5666\n"
     ]
    }
   ],
   "source": [
    "agent = DQNAgent(discount_rate=0.9 , alpha=0 , epsilon=0.7\n",
    "                 , memory_size=1000000 , n_actions=9 , input_shape = 1 ,\n",
    "                 lr = 0.01 , memory_shape=4 , batch_size=164)\n",
    "#agent.load_model()\n",
    "agent.learn(myRobot)"
   ]
  },
  {
   "cell_type": "code",
   "execution_count": null,
   "metadata": {},
   "outputs": [],
   "source": [
    "myRobot = BalancingRobot(False)\n",
    "agent.test(myRobot)\n",
    "#agent.save_model(\"smalltrain2.h5\")"
   ]
  },
  {
   "cell_type": "code",
   "execution_count": 22,
   "metadata": {},
   "outputs": [
    {
     "data": {
      "text/plain": [
       "[<matplotlib.lines.Line2D at 0x1fb3dc920d0>]"
      ]
     },
     "execution_count": 22,
     "metadata": {},
     "output_type": "execute_result"
    },
    {
     "data": {
      "image/png": "[encoded data removed]",
      "text/plain": [
       "<Figure size 432x288 with 1 Axes>"
      ]
     },
     "metadata": {
      "needs_background": "light"
     },
     "output_type": "display_data"
    }
   ],
   "source": [
    "plt.plot(agent.maximum_q[0:5000])"
   ]
  },
  {
   "cell_type": "code",
   "execution_count": 19,
   "metadata": {},
   "outputs": [],
   "source": [
    "k = np.ones(100)/100\n",
    "smoothed = np.convolve(np.array(agent.train_rewards).flatten(), k, 'valid')"
   ]
  },
  {
   "cell_type": "code",
   "execution_count": 20,
   "metadata": {},
   "outputs": [
    {
     "data": {
      "text/plain": [
       "[<matplotlib.lines.Line2D at 0x1fb3dc10be0>]"
      ]
     },
     "execution_count": 20,
     "metadata": {},
     "output_type": "execute_result"
    },
    {
     "data": {
      "image/png": "[encoded data removed]",
      "text/plain": [
       "<Figure size 936x576 with 1 Axes>"
      ]
     },
     "metadata": {
      "needs_background": "light"
     },
     "output_type": "display_data"
    }
   ],
   "source": [
    "plt.figure(figsize=(13,8))\n",
    "plt.title(\"DQN Rewards Over Steps\")\n",
    "plt.xlabel(\"Step \")\n",
    "plt.ylabel(\"Moving Average of the reward\")\n",
    "plt.plot(np.arange(len(smoothed)) , smoothed , color='r' , linestyle=None)"
   ]
  },
  {
   "cell_type": "code",
   "execution_count": 16,
   "metadata": {},
   "outputs": [
    {
     "data": {
      "text/plain": [
       "[<matplotlib.lines.Line2D at 0x1fb43899b50>]"
      ]
     },
     "execution_count": 16,
     "metadata": {},
     "output_type": "execute_result"
    },
    {
     "data": {
      "image/png": "[encoded data removed]",
      "text/plain": [
       "<Figure size 936x576 with 1 Axes>"
      ]
     },
     "metadata": {
      "needs_background": "light"
     },
     "output_type": "display_data"
    }
   ],
   "source": [
    "\n",
    "k = np.ones(70)/70\n",
    "smoothed = np.convolve(agent.maximum_q, k, 'valid')\n",
    "plt.figure(figsize=(13,8))\n",
    "plt.title(\"Maximum Q Values Predicted over the steps\")\n",
    "plt.xlabel(\"Step \")\n",
    "plt.ylabel(\"Moving Avg Max Q Values\")\n",
    "plt.plot(np.arange(len(smoothed)) , smoothed , color='r' , linestyle=None)"
   ]
  },
  {
   "cell_type": "code",
   "execution_count": null,
   "metadata": {},
   "outputs": [],
   "source": []
  }
 ],
 "metadata": {
  "kernelspec": {
   "display_name": "Python 3",
   "language": "python",
   "name": "python3"
  },
  "language_info": {
   "codemirror_mode": {
    "name": "ipython",
    "version": 3
   },
   "file_extension": ".py",
   "mimetype": "text/x-python",
   "name": "python",
   "nbconvert_exporter": "python",
   "pygments_lexer": "ipython3",
   "version": "3.8.5"
  }
 },
 "nbformat": 4,
 "nbformat_minor": 4
}
